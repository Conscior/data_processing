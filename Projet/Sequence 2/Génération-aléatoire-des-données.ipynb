{
 "cells": [
  {
   "cell_type": "markdown",
   "id": "6d02ef0b",
   "metadata": {},
   "source": [
    "# ÉTAPE 2 : Génération aléatoire des données"
   ]
  },
  {
   "cell_type": "markdown",
   "id": "5af980fe",
   "metadata": {},
   "source": [
    "### 1.1 Générer les coordonées de chaque sommet du graphe :"
   ]
  },
  {
   "cell_type": "code",
   "execution_count": 3,
   "id": "53a0e867",
   "metadata": {},
   "outputs": [
    {
     "name": "stdout",
     "output_type": "stream",
     "text": [
      "[[159, 157], [174, 67], [159, 2], [120, 94]]\n"
     ]
    }
   ],
   "source": [
    "import math\n",
    "import random\n",
    "\n",
    "# Cette fonction prend en parametre le nombre de sommet et génère les coordonées (x,y) de chaque sommet\n",
    "\n",
    "def generate_vertex(nbrSommet):     \n",
    "    coordonees_sommets = list()    \n",
    "   \n",
    "    for i in range(nbrSommet): \n",
    "         x = random.randint(0,190)   # Pour chaque sommet on génère aléatoirement un valeur x comprise entre [0,190]\n",
    "         y = random.randint(0,190)   # Pour chaque sommet on génère aléatoirement un valeur y comprise entre [0,190]\n",
    "         coordonees_sommets.append([x,y]) \n",
    "   \n",
    "    return coordonees_sommets   # On retourne la liste des coordonées de chaque sommet\n",
    "\n",
    "\n",
    "resultat  = generate_vertex(4)\n",
    "print(resultat)\n",
    "\n"
   ]
  },
  {
   "cell_type": "markdown",
   "id": "e47c02b5",
   "metadata": {},
   "source": [
    "### 1.2 Générer la Matrice d'adjacence :"
   ]
  },
  {
   "cell_type": "code",
   "execution_count": 5,
   "id": "a5328f6d",
   "metadata": {},
   "outputs": [
    {
     "name": "stdout",
     "output_type": "stream",
     "text": [
      "[[0, 1, 1, 1], [1, 0, 1, 1], [1, 1, 0, 1], [1, 1, 1, 0]]\n"
     ]
    }
   ],
   "source": [
    "import math\n",
    "import random\n",
    "import numpy as np\n",
    "\n",
    "\n",
    "def checksuper_than_0(list):\n",
    "    counter = 0\n",
    "    for i in list:\n",
    "        if i >0 :\n",
    "            counter = counter + 1\n",
    "    return counter\n",
    "\n",
    "\n",
    "# Cette fonction va générer une matrice d'adjacence \n",
    "\n",
    "def generate_adjacency_Matrix (nbrSommet):\n",
    "\n",
    "        degreMax = nbrSommet - 1              # Le degré maximum de chaque sommet doit etre nombre_sommet - 1\n",
    "        degreMin = math.ceil(nbrSommet / 2)   # Le degre minimum d'un sommet est de (nombre_sommet /2)\n",
    "    \n",
    "        graph = [[0 for i in range(nbrSommet)] for j in range(nbrSommet)]  # Initialisation de la matrice à 0 afin d'obtenir une matrice nulle\n",
    "        \n",
    "        point = generate_vertex(nbrSommet)  # On fait appele à la fonction précedente pour génerer la liste de coordonées des sommets\n",
    "        \n",
    "        for x in range(nbrSommet):   # Nous parcourons la matrcie nulle nommée \"graph\"\n",
    "            \n",
    "            for y1 in range(nbrSommet):\n",
    "                \n",
    "                        degre = random.randint(degreMin, degreMax) + 1  # Ici pour chaque sommet on génére un degré aléatoirement compris entre degréMin et degeéMax\n",
    "                        degr_parcour = degre\n",
    "    \n",
    "                        while (degr_parcour > 0 ):   # Tant que le degré et superieur à zero et que le sommet n'est pas lui meme , on affecte la valeur 1\n",
    "                       \n",
    "                            if (x != y1):\n",
    "                              graph[x][y1] = 1\n",
    "                             \n",
    "                            degr_parcour = degr_parcour - 1  # On décremente de degré et on boucle jusqu'à ce que le degré soit égale 0\n",
    "    \n",
    "    \n",
    "                            if (checksuper_than_0(graph[y1]) > degre):\n",
    "                                graph[y1][x] = 0\n",
    "    \n",
    "    \n",
    "                        degr_parcour = degre\n",
    "        \n",
    "                        if (x == y1):        # Cette condition met 0 la diagonale la matrice (position lorsque x = y1)\n",
    "                            graph[x][y1] = 0\n",
    "    \n",
    "        return graph\n",
    "        \n",
    "Matrice_adjacente = generate_adjacency_Matrix(4)\n",
    "print(Matrice_adjacente)"
   ]
  },
  {
   "cell_type": "markdown",
   "id": "8360d478",
   "metadata": {},
   "source": [
    "### 1.3 Générer la Matrice pondéré  :"
   ]
  },
  {
   "cell_type": "markdown",
   "id": "332c1e1a",
   "metadata": {},
   "source": [
    "####     1.3.1 Calculer la distance entre les sommets :"
   ]
  },
  {
   "cell_type": "code",
   "execution_count": 7,
   "id": "35eed454",
   "metadata": {},
   "outputs": [
    {
     "name": "stdout",
     "output_type": "stream",
     "text": [
      "75.53806987208503\n"
     ]
    }
   ],
   "source": [
    "def calculate_distance(x1,x2, y1,y2):\n",
    "    \n",
    "    return math.sqrt((x2-x1)**2 + (y2-y1)**2)\n",
    "\n",
    "exemple = calculate_distance(160,85, 44,35 )\n",
    "print(exemple)"
   ]
  },
  {
   "cell_type": "markdown",
   "id": "a39d92a6",
   "metadata": {},
   "source": [
    "####  1.3.2 Fonction qui génére la matrice pondére :"
   ]
  },
  {
   "cell_type": "code",
   "execution_count": 15,
   "id": "c3c71dfc",
   "metadata": {},
   "outputs": [
    {
     "name": "stdout",
     "output_type": "stream",
     "text": [
      "[[0, 44.01136216933077, 137.23337786413333, 127.3184982632139], [44.01136216933077, 0, 144.81022063376605, 89.56003573022959], [137.23337786413333, 144.81022063376605, 0, 224.8043593883357], [127.3184982632139, 89.56003573022959, 224.8043593883357, 0]]\n"
     ]
    }
   ],
   "source": [
    "import math\n",
    "import random\n",
    "import numpy as np\n",
    "\n",
    "\n",
    "\n",
    "# Cette fonction va générer une matrice pondére \n",
    "\n",
    "def generate_Matrix (nbrSommet):\n",
    "\n",
    "        degreMax = nbrSommet - 1              # Le degré maximum de chaque sommet doit etre nombre_sommet - 1\n",
    "        degreMin = math.ceil(nbrSommet / 2)   # Le degre minimum d'un sommet est de (nombre_sommet /2)\n",
    "    \n",
    "        graph = [[0 for i in range(nbrSommet)] for j in range(nbrSommet)]  # Initialisation de la matrice à 0 afin d'obtenir une matrice nulle\n",
    "        \n",
    "        point = generate_vertex(nbrSommet)  # On fait appele à la fonction précedente pour génerer la liste de coordonées des sommets\n",
    "        \n",
    "        for x in range(nbrSommet):   # Nous parcourons la matrcie nulle nommée \"graph\"\n",
    "            \n",
    "            for y1 in range(nbrSommet):\n",
    "                \n",
    "                        degre = random.randint(degreMin, degreMax) + 1  # Ici pour chaque sommet on génére un degré aléatoirement compris entre degréMin et degeéMax\n",
    "                        degr_parcour = degre\n",
    "    \n",
    "                        while (degr_parcour > 0 ):   # Tant que le degré et superieur à zero et que le sommet n'est pas lui meme , on calcule la distance\n",
    "                       \n",
    "                            if (x != y1):\n",
    "                              graph[x][y1] = calculate_distance(point[x][0],point[y1][0],point[x][1],point[y1][1])\n",
    "                             \n",
    "                            degr_parcour = degr_parcour - 1  # On décremente de degré et on boucle jusqu'à ce que le degré soit égale 0\n",
    "    \n",
    "    \n",
    "                            if (checksuper_than_0(graph[y1]) > degre):\n",
    "                                graph[y1][x] = 0\n",
    "    \n",
    "    \n",
    "                        degr_parcour = degre\n",
    "        \n",
    "                        if (x == y1):        # Cette condition met 0 la diagonale la matrice (position lorsque x = y1)\n",
    "                            graph[x][y1] = 0\n",
    "    \n",
    "        return graph\n",
    "        \n",
    "Matrice_pondere = generate_Matrix(4)\n",
    "print(Matrice_pondere)\n"
   ]
  },
  {
   "cell_type": "markdown",
   "id": "2e837a9b",
   "metadata": {},
   "source": [
    "### 1.4 Générer le graphe :"
   ]
  },
  {
   "cell_type": "code",
   "execution_count": null,
   "id": "93864838",
   "metadata": {},
   "outputs": [],
   "source": []
  },
  {
   "cell_type": "code",
   "execution_count": null,
   "id": "f7d8d9b3",
   "metadata": {},
   "outputs": [],
   "source": []
  }
 ],
 "metadata": {
  "kernelspec": {
   "display_name": "Python 3",
   "language": "python",
   "name": "python3"
  },
  "language_info": {
   "codemirror_mode": {
    "name": "ipython",
    "version": 3
   },
   "file_extension": ".py",
   "mimetype": "text/x-python",
   "name": "python",
   "nbconvert_exporter": "python",
   "pygments_lexer": "ipython3",
   "version": "3.8.8"
  }
 },
 "nbformat": 4,
 "nbformat_minor": 5
}
