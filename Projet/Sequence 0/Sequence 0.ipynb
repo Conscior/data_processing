{
 "cells": [
  {
   "cell_type": "markdown",
   "id": "b0ebcc07",
   "metadata": {},
   "source": [
    "# Titre principal "
   ]
  },
  {
   "cell_type": "code",
   "execution_count": 6,
   "id": "a32316f5",
   "metadata": {},
   "outputs": [
    {
     "name": "stdout",
     "output_type": "stream",
     "text": [
      "Valeur de Z: 0.5\n"
     ]
    }
   ],
   "source": [
    "x = 10\n",
    "y = 20\n",
    "z = x/y\n",
    "print(f\"Valeur de Z: {z}\")"
   ]
  },
  {
   "cell_type": "code",
   "execution_count": 8,
   "id": "7abf764a",
   "metadata": {},
   "outputs": [
    {
     "name": "stdout",
     "output_type": "stream",
     "text": [
      "i : 1 smaller than 5\n",
      "i : 2 smaller than 5\n",
      "i : 3 smaller than 5\n",
      "i : 4 smaller than 5\n",
      "i : 5 equal to 5\n",
      "i : 6 superior than 5\n",
      "i : 7 superior than 5\n",
      "i : 8 superior than 5\n",
      "i : 9 superior than 5\n",
      "i : 10 superior than 5\n"
     ]
    }
   ],
   "source": [
    "x=[1,2,3,4,5,6,7,8,9,10]\n",
    "for i in x:\n",
    "    if i < 5:\n",
    "        print(f\"i : {i} smaller than 5\")\n",
    "    elif i == 5:\n",
    "        print(f\"i : {i} equal to 5\")\n",
    "    else:\n",
    "        print(f\"i : {i} superior than 5\")"
   ]
  },
  {
   "cell_type": "code",
   "execution_count": 21,
   "id": "f2236fab",
   "metadata": {},
   "outputs": [
    {
     "name": "stdout",
     "output_type": "stream",
     "text": [
      "5\n"
     ]
    }
   ],
   "source": [
    "x = 5\n",
    "for i in range(1, 1):\n",
    "    x = x * x\n",
    "print(x)"
   ]
  },
  {
   "cell_type": "code",
   "execution_count": 19,
   "id": "32f5b03f",
   "metadata": {},
   "outputs": [
    {
     "data": {
      "text/plain": [
       "(25, 1)"
      ]
     },
     "execution_count": 19,
     "metadata": {},
     "output_type": "execute_result"
    }
   ],
   "source": [
    "def _square(x, n):\n",
    "    m = x\n",
    "    j = 0\n",
    "    for i in range(1, n):\n",
    "        j = j+1\n",
    "        x = x * m\n",
    "    return x, j\n",
    "_square(5,2)"
   ]
  },
  {
   "cell_type": "code",
   "execution_count": null,
   "id": "7465989b",
   "metadata": {},
   "outputs": [],
   "source": []
  },
  {
   "cell_type": "code",
   "execution_count": 17,
   "id": "b07a74e6",
   "metadata": {},
   "outputs": [
    {
     "data": {
      "text/plain": [
       "[<matplotlib.lines.Line2D at 0x16e6504f7c0>]"
      ]
     },
     "execution_count": 17,
     "metadata": {},
     "output_type": "execute_result"
    },
    {
     "data": {
      "image/png": "[encoded data removed]",
      "text/plain": [
       "<Figure size 432x288 with 1 Axes>"
      ]
     },
     "metadata": {
      "needs_background": "light"
     },
     "output_type": "display_data"
    }
   ],
   "source": [
    "import numpy as np\n",
    "import matplotlib.pyplot as plt\n",
    "\n",
    "x = np.linspace(1,10,10)\n",
    "y = np.linspace(1,20,10)\n",
    "\n",
    "plt.plot(x,y)"
   ]
  },
  {
   "cell_type": "code",
   "execution_count": 14,
   "id": "88883846",
   "metadata": {},
   "outputs": [
    {
     "data": {
      "text/plain": [
       "(25, 8)"
      ]
     },
     "execution_count": 14,
     "metadata": {},
     "output_type": "execute_result"
    }
   ],
   "source": [
    "def puissance2(x,n):\n",
    "    R=1\n",
    "    X=x\n",
    "    N=n\n",
    "    j=0\n",
    "    while (N>0):\n",
    "        if ((N%2)!=0):\n",
    "            R=R*X\n",
    "        N=N//2\n",
    "        X=X*X\n",
    "        j = j+4\n",
    "        #j = complexité\n",
    "    return R, j\n",
    "\n",
    "puissance2(5,2)"
   ]
  },
  {
   "cell_type": "code",
   "execution_count": 25,
   "id": "28b41d82",
   "metadata": {},
   "outputs": [],
   "source": [
    "absisse = []\n",
    "y1 = []\n",
    "y2 = []\n",
    "\n",
    "for i in range(50):\n",
    "    absisse.append(i)\n",
    "    y1.append(_square(5, i)[1])\n",
    "    y2.append(puissance2(5, i)[1])"
   ]
  },
  {
   "cell_type": "code",
   "execution_count": 32,
   "id": "2511c6f5",
   "metadata": {},
   "outputs": [
    {
     "data": {
      "text/plain": [
       "[<matplotlib.lines.Line2D at 0x16e652c7ee0>]"
      ]
     },
     "execution_count": 32,
     "metadata": {},
     "output_type": "execute_result"
    },
    {
     "data": {
      "image/png": "[encoded data removed]",
      "text/plain": [
       "<Figure size 432x288 with 1 Axes>"
      ]
     },
     "metadata": {
      "needs_background": "light"
     },
     "output_type": "display_data"
    }
   ],
   "source": [
    "import matplotlib.pyplot as plt\n",
    "\n",
    "plt.plot(y1, absisse)\n",
    "plt.plot(y2, absisse)"
   ]
  },
  {
   "cell_type": "code",
   "execution_count": 1,
   "id": "654aa029",
   "metadata": {},
   "outputs": [],
   "source": [
    "from pymongo import MongoClient\n",
    "import pprint\n",
    "\n",
    "client = MongoClient('localhost', 27017)\n",
    "db = client['DataProject']\n",
    "collection_trafic = db['vehicules']"
   ]
  },
  {
   "cell_type": "code",
   "execution_count": 3,
   "id": "b535ef71",
   "metadata": {},
   "outputs": [
    {
     "name": "stdout",
     "output_type": "stream",
     "text": [
      "600000\n"
     ]
    },
    {
     "name": "stderr",
     "output_type": "stream",
     "text": [
      "<ipython-input-3-38fae6abf435>:1: DeprecationWarning: count is deprecated. Use Collection.count_documents instead.\n",
      "  print(collection_trafic.find().count())\n"
     ]
    }
   ],
   "source": [
    "print(collection_trafic.find().count())"
   ]
  },
  {
   "cell_type": "code",
   "execution_count": 4,
   "id": "448555b2",
   "metadata": {},
   "outputs": [
    {
     "name": "stdout",
     "output_type": "stream",
     "text": [
      "[{'_id': ObjectId('60b5f7999b3e3d9b07c4e057'),\n",
      "  'nb_vehicules': 32,\n",
      "  'num_arete': 0,\n",
      "  'num_jour': 0,\n",
      "  'num_periode': 0,\n",
      "  'plage_horaire': 'm'},\n",
      " {'_id': ObjectId('60b5f7999b3e3d9b07c4e058'),\n",
      "  'nb_vehicules': 58,\n",
      "  'num_arete': 0,\n",
      "  'num_jour': 0,\n",
      "  'num_periode': 1,\n",
      "  'plage_horaire': 'm'},\n",
      " {'_id': ObjectId('60b5f7999b3e3d9b07c4e059'),\n",
      "  'nb_vehicules': 41,\n",
      "  'num_arete': 0,\n",
      "  'num_jour': 0,\n",
      "  'num_periode': 2,\n",
      "  'plage_horaire': 'm'},\n",
      " {'_id': ObjectId('60b5f7999b3e3d9b07c4e05a'),\n",
      "  'nb_vehicules': 27,\n",
      "  'num_arete': 0,\n",
      "  'num_jour': 0,\n",
      "  'num_periode': 3,\n",
      "  'plage_horaire': 'm'},\n",
      " {'_id': ObjectId('60b5f7999b3e3d9b07c4e05b'),\n",
      "  'nb_vehicules': 15,\n",
      "  'num_arete': 0,\n",
      "  'num_jour': 0,\n",
      "  'num_periode': 4,\n",
      "  'plage_horaire': 'm'}]\n"
     ]
    }
   ],
   "source": [
    "pprint.pprint(list(collection_trafic.find()[0:5]))"
   ]
  },
  {
   "cell_type": "code",
   "execution_count": 5,
   "id": "7241075f",
   "metadata": {},
   "outputs": [
    {
     "name": "stdout",
     "output_type": "stream",
     "text": [
      "{'_id': ObjectId('60b8ddebd9fd01a51b8ff3d4'), 'num_arete': 501}\n"
     ]
    }
   ],
   "source": [
    "collection_trafic.insert_one({\"num_arete\":501})\n",
    "print(collection_trafic.find_one({\"num_arete\":501}))"
   ]
  },
  {
   "cell_type": "code",
   "execution_count": 6,
   "id": "b7f90a63",
   "metadata": {},
   "outputs": [
    {
     "name": "stdout",
     "output_type": "stream",
     "text": [
      "None\n"
     ]
    }
   ],
   "source": [
    "collection_trafic.delete_one({\"num_arete\":501})\n",
    "print(collection_trafic.find_one({\"num_arete\":501}))"
   ]
  },
  {
   "cell_type": "code",
   "execution_count": 7,
   "id": "d65d7191",
   "metadata": {},
   "outputs": [
    {
     "name": "stdout",
     "output_type": "stream",
     "text": [
      "{'m': 19720247, 's': 28191853}\n"
     ]
    }
   ],
   "source": [
    "vehicules_par_plage = {\"m\":0, \"s\":0}\n",
    "for trafic in collection_trafic.find({\"$or\":[{\"plage_horaire\":\"m\"}, {\"plage_horaire\":\"s\"}]}):\n",
    "    plage = trafic[\"plage_horaire\"]\n",
    "    vehicules_par_plage[plage] += trafic[\"nb_vehicules\"]\n",
    "print(vehicules_par_plage)"
   ]
  },
  {
   "cell_type": "code",
   "execution_count": 29,
   "id": "d505c192",
   "metadata": {},
   "outputs": [
    {
     "name": "stdout",
     "output_type": "stream",
     "text": [
      "[{'_id': 'm', 'nbr_vehicules': 19720247}, {'_id': 's', 'nbr_vehicules': 28191853}]\n"
     ]
    }
   ],
   "source": [
    "test = collection_trafic.aggregate([{\"$group\": {\"_id\" : \"$plage_horaire\", \"nbr_vehicules\":{\"$sum\":\"$nb_vehicules\"}}}])\n",
    "print(list(test))"
   ]
  },
  {
   "cell_type": "code",
   "execution_count": 10,
   "id": "fdd44476",
   "metadata": {},
   "outputs": [
    {
     "name": "stdout",
     "output_type": "stream",
     "text": [
      "{'_id': ObjectId('60b5f7999b3e3d9b07c4e11f'), 'num_arete': 0, 'num_jour': 0, 'plage_horaire': 's', 'num_periode': 87, 'nb_vehicules': 61}\n",
      "{'_id': ObjectId('60ba01dad66888800ae20cf1'), 'num_arete': 0, 'date': '2020-01-01 18:28:00', 'nb_vehicules': 61}\n"
     ]
    }
   ],
   "source": [
    "#Convertion des données\n",
    "import datetime \n",
    "from pymongo import MongoClient\n",
    "\n",
    "client = MongoClient('localhost', 27017)\n",
    "db = client['DataProject']\n",
    "collection_trafic = db['vehicules']\n",
    "\n",
    "data = list(collection_trafic.find())\n",
    "\n",
    "def data_convert(item):\n",
    "    new_item = {}\n",
    "    jour = item[\"num_jour\"] + 1 #Jour\n",
    "    minute = 0\n",
    "    heure = 7 if item[\"plage_horaire\"] == \"m\" else 17\n",
    "    if item[\"num_periode\"] < 59:\n",
    "        minute = item[\"num_periode\"] + 1\n",
    "    else:\n",
    "        heure += (item[\"num_periode\"] + 1) // 60 #Floor division\n",
    "        minute = (item[\"num_periode\"] + 1) % 60\n",
    "    date = str(datetime.datetime(2020, 1, jour, heure, minute)) #DateTime Object\n",
    "    new_item[\"num_arete\"] = item[\"num_arete\"]\n",
    "    new_item[\"date\"] = date\n",
    "    new_item[\"nb_vehicules\"] = item[\"nb_vehicules\"]\n",
    "    return new_item\n",
    "\n",
    "#Loop through each line and convert\n",
    "new_data = []\n",
    "for item in data:\n",
    "    new_data.append(data_convert(item))\n",
    "\n",
    "#new collection\n",
    "new_collection_traffic = db['véhicules_stamped']\n",
    "new_collection_traffic.insert_many(new_data)\n",
    "print(collection_trafic.find()[200])\n",
    "print(new_collection_traffic.find()[200])"
   ]
  },
  {
   "cell_type": "code",
   "execution_count": 12,
   "id": "356f431e",
   "metadata": {},
   "outputs": [
    {
     "name": "stderr",
     "output_type": "stream",
     "text": [
      "<ipython-input-12-f800e3603d28>:1: DeprecationWarning: count is deprecated. Use Collection.count_documents instead.\n",
      "  new_collection_traffic.find().count()\n"
     ]
    },
    {
     "data": {
      "text/plain": [
       "600000"
      ]
     },
     "execution_count": 12,
     "metadata": {},
     "output_type": "execute_result"
    }
   ],
   "source": [
    "new_collection_traffic.find().count()"
   ]
  },
  {
   "cell_type": "code",
   "execution_count": 20,
   "id": "0126eaa1",
   "metadata": {},
   "outputs": [
    {
     "name": "stdout",
     "output_type": "stream",
     "text": [
      "[{'_id': ObjectId('60ba01dad66888800ae20c29'),\n",
      "  'date': '2020-01-01 07:01:00',\n",
      "  'nb_vehicules': 32,\n",
      "  'num_arete': 0},\n",
      " {'_id': ObjectId('60ba01dad66888800ae20c2a'),\n",
      "  'date': '2020-01-01 07:02:00',\n",
      "  'nb_vehicules': 58,\n",
      "  'num_arete': 0},\n",
      " {'_id': ObjectId('60ba01dad66888800ae20c2b'),\n",
      "  'date': '2020-01-01 07:03:00',\n",
      "  'nb_vehicules': 41,\n",
      "  'num_arete': 0},\n",
      " {'_id': ObjectId('60ba01dad66888800ae20c2c'),\n",
      "  'date': '2020-01-01 07:04:00',\n",
      "  'nb_vehicules': 27,\n",
      "  'num_arete': 0},\n",
      " {'_id': ObjectId('60ba01dad66888800ae20c2d'),\n",
      "  'date': '2020-01-01 07:05:00',\n",
      "  'nb_vehicules': 15,\n",
      "  'num_arete': 0},\n",
      " {'_id': ObjectId('60ba01dad66888800ae20c2e'),\n",
      "  'date': '2020-01-01 07:06:00',\n",
      "  'nb_vehicules': 51,\n",
      "  'num_arete': 0},\n",
      " {'_id': ObjectId('60ba01dad66888800ae20c2f'),\n",
      "  'date': '2020-01-01 07:07:00',\n",
      "  'nb_vehicules': 42,\n",
      "  'num_arete': 0},\n",
      " {'_id': ObjectId('60ba01dad66888800ae20c30'),\n",
      "  'date': '2020-01-01 07:08:00',\n",
      "  'nb_vehicules': 43,\n",
      "  'num_arete': 0},\n",
      " {'_id': ObjectId('60ba01dad66888800ae20c31'),\n",
      "  'date': '2020-01-01 07:09:00',\n",
      "  'nb_vehicules': 51,\n",
      "  'num_arete': 0},\n",
      " {'_id': ObjectId('60ba01dad66888800ae20c32'),\n",
      "  'date': '2020-01-01 07:10:00',\n",
      "  'nb_vehicules': 41,\n",
      "  'num_arete': 0}]\n"
     ]
    }
   ],
   "source": [
    "import pprint\n",
    "pprint.pprint(list(new_collection_traffic.find()[0:10]))"
   ]
  },
  {
   "cell_type": "code",
   "execution_count": null,
   "id": "4ea8531a",
   "metadata": {},
   "outputs": [],
   "source": [
    "#Validation des données\n",
    "import datetime \n",
    "from pymongo import MongoClient\n",
    "\n",
    "client = MongoClient('localhost', 27017)\n",
    "db = client['DataProject']\n",
    "new_collection_traffic = db['véhicules_stamped']\n",
    "\n",
    "\n"
   ]
  }
 ],
 "metadata": {
  "kernelspec": {
   "display_name": "Python 3",
   "language": "python",
   "name": "python3"
  },
  "language_info": {
   "codemirror_mode": {
    "name": "ipython",
    "version": 3
   },
   "file_extension": ".py",
   "mimetype": "text/x-python",
   "name": "python",
   "nbconvert_exporter": "python",
   "pygments_lexer": "ipython3",
   "version": "3.8.8"
  }
 },
 "nbformat": 4,
 "nbformat_minor": 5
}
