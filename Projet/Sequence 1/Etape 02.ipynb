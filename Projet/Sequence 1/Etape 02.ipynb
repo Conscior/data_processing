{
 "cells": [
  {
   "cell_type": "code",
   "execution_count": 10,
   "id": "601d7d72",
   "metadata": {},
   "outputs": [],
   "source": [
    "import random\n",
    "\n",
    "def random_matrice(n, _min, _max):\n",
    "    matrice = []\n",
    "    coef = 2\n",
    "    for i in range(n):\n",
    "        temp_list = []\n",
    "        for j in range(n):\n",
    "            rand_num = random.randint(_min,_max)\n",
    "            rand_num = rand_num if rand_num < (_max//coef) else 0\n",
    "            temp_list.append(rand_num)\n",
    "        matrice.append(temp_list)\n",
    "    return matrice\n",
    "            "
   ]
  },
  {
   "cell_type": "code",
   "execution_count": 11,
   "id": "4332fc7d",
   "metadata": {},
   "outputs": [
    {
     "data": {
      "text/plain": [
       "[[11, 5, 0, 0, 5, 34, 9, 0, 0],\n",
       " [0, 12, 0, 9, 0, 0, 1, 0, 36],\n",
       " [0, 0, 0, 39, 0, 0, 18, 0, 35],\n",
       " [18, 17, 0, 0, 0, 0, 27, 2, 0],\n",
       " [0, 0, 35, 14, 0, 0, 0, 0, 0],\n",
       " [0, 19, 0, 20, 0, 8, 0, 37, 0],\n",
       " [0, 0, 0, 35, 10, 0, 0, 0, 0],\n",
       " [0, 7, 35, 1, 0, 30, 0, 33, 23],\n",
       " [0, 14, 4, 0, 0, 0, 0, 0, 0]]"
      ]
     },
     "execution_count": 11,
     "metadata": {},
     "output_type": "execute_result"
    }
   ],
   "source": [
    "random_matrice(9,0,80)"
   ]
  },
  {
   "cell_type": "code",
   "execution_count": null,
   "id": "2eda640d",
   "metadata": {},
   "outputs": [],
   "source": []
  }
 ],
 "metadata": {
  "kernelspec": {
   "display_name": "Python 3",
   "language": "python",
   "name": "python3"
  },
  "language_info": {
   "codemirror_mode": {
    "name": "ipython",
    "version": 3
   },
   "file_extension": ".py",
   "mimetype": "text/x-python",
   "name": "python",
   "nbconvert_exporter": "python",
   "pygments_lexer": "ipython3",
   "version": "3.8.8"
  }
 },
 "nbformat": 4,
 "nbformat_minor": 5
}
